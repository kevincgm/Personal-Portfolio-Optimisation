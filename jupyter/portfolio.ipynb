{
 "cells": [
  {
   "cell_type": "markdown",
   "metadata": {},
   "source": [
    "# Import libraries"
   ]
  },
  {
   "cell_type": "code",
   "execution_count": 71,
   "metadata": {},
   "outputs": [],
   "source": [
    "import pandas as pd\n",
    "import numpy as np\n",
    "import scipy.stats\n",
    "import yfinance as yf\n",
    "import datetime\n",
    "from pypfopt.efficient_frontier import EfficientFrontier\n",
    "from pypfopt import risk_models, expected_returns\n",
    "from pypfopt.discrete_allocation import DiscreteAllocation, get_latest_prices\n",
    "from pypfopt.plotting import plot_efficient_frontier\n",
    "import plotly.graph_objects as go\n",
    "import matplotlib.pyplot as plt"
   ]
  },
  {
   "cell_type": "markdown",
   "metadata": {},
   "source": [
    "# 1. Data Engineering - yfinance"
   ]
  },
  {
   "cell_type": "code",
   "execution_count": 72,
   "metadata": {},
   "outputs": [],
   "source": [
    "# Variables\n",
    "# Define ETF tickers and benchmark \n",
    "etfs = ['VWRA.L', 'VUAA.L', 'SPY4.L', 'PHYS', 'EXXY.MI', 'AGGU.L']\n",
    "benchmark = '^GSPC'  # S&P 500\n",
    "\n",
    "# Set the time frame for analysis\n",
    "start_date = '2019-06-01'\n",
    "end_date = '2023-12-31'\n"
   ]
  },
  {
   "cell_type": "code",
   "execution_count": 73,
   "metadata": {},
   "outputs": [
    {
     "name": "stderr",
     "output_type": "stream",
     "text": [
      "[*********************100%***********************]  7 of 7 completed"
     ]
    },
    {
     "name": "stdout",
     "output_type": "stream",
     "text": [
      "Ticker         VWRA.L     VUAA.L     SPY4.L   PHYS    EXXY.MI  AGGU.L\n",
      "Date                                                                 \n",
      "2019-07-23  80.000000  52.105610  56.520000  11.38  18.101999  5.4120\n",
      "2019-07-24  80.263603  52.321918  57.150002  11.42  18.268000  5.4225\n",
      "2019-07-25  79.925003  52.410404  57.395000  11.37  18.122000  5.4190\n",
      "2019-07-26  80.065002  52.597218  57.560001  11.37  18.120001  5.4240\n",
      "2019-07-29  80.035004  52.611965  57.404999  11.47  18.100000  5.4215\n",
      "Date\n",
      "2019-06-03    2744.449951\n",
      "2019-06-04    2803.270020\n",
      "2019-06-05    2826.149902\n",
      "2019-06-06    2843.489990\n",
      "2019-06-07    2873.340088\n",
      "Name: ^GSPC, dtype: float64\n"
     ]
    },
    {
     "name": "stderr",
     "output_type": "stream",
     "text": [
      "\n",
      "C:\\Users\\User\\AppData\\Local\\Temp\\ipykernel_4612\\2344532748.py:10: SettingWithCopyWarning:\n",
      "\n",
      "\n",
      "A value is trying to be set on a copy of a slice from a DataFrame\n",
      "\n",
      "See the caveats in the documentation: https://pandas.pydata.org/pandas-docs/stable/user_guide/indexing.html#returning-a-view-versus-a-copy\n",
      "\n"
     ]
    }
   ],
   "source": [
    "# Fetch historical price data for all ETFs and the benchmark\n",
    "all_tickers = etfs + [benchmark]\n",
    "data = yf.download(all_tickers, start=start_date, end=end_date)['Adj Close']\n",
    "\n",
    "# Split the data into ETFs and benchmark\n",
    "etf_prices = data[etfs]\n",
    "benchmark_data = data[benchmark]\n",
    "\n",
    "# Drop any rows with missing values\n",
    "etf_prices.dropna(inplace=True)\n",
    "benchmark_data.dropna(inplace=True)\n",
    "\n",
    "# Display the first few rows of the data\n",
    "print(etf_prices.head())\n",
    "print(benchmark_data.head())"
   ]
  },
  {
   "cell_type": "markdown",
   "metadata": {},
   "source": [
    "# 2. Metrics\n"
   ]
  },
  {
   "cell_type": "markdown",
   "metadata": {},
   "source": [
    "## 2.1 - Daily Returns and Volatility\n",
    "\n",
    "Trying out arithmetic mean with log returns, attempting to assert the calculations made by PyPortfolioOpt library"
   ]
  },
  {
   "cell_type": "code",
   "execution_count": 74,
   "metadata": {},
   "outputs": [
    {
     "name": "stdout",
     "output_type": "stream",
     "text": [
      "Numpy manual calculation of arithmetic mean\n",
      "Ticker\n",
      "VWRA.L     0.091133\n",
      "VUAA.L     0.126476\n",
      "SPY4.L     0.095946\n",
      "PHYS       0.078119\n",
      "EXXY.MI    0.064243\n",
      "AGGU.L    -0.002112\n",
      "dtype: float64\n",
      "\n",
      "PyPortfolioOpt library calculation of arithmetic mean\n",
      "Ticker\n",
      "VWRA.L     0.091133\n",
      "VUAA.L     0.126476\n",
      "SPY4.L     0.095946\n",
      "PHYS       0.078119\n",
      "EXXY.MI    0.064243\n",
      "AGGU.L    -0.002112\n",
      "dtype: float64\n"
     ]
    }
   ],
   "source": [
    "# Calculate daily returns\n",
    "log_returns = np.log(etf_prices / etf_prices.shift(1)).dropna()\n",
    "mean_annual = log_returns.mean() * 252 # Annualise trading days\n",
    "print(\"Numpy manual calculation of arithmetic mean\")\n",
    "print(mean_annual)\n",
    "print()\n",
    "\n",
    "# Asserting how PyPortfolio Opt calculates mean historical mean\n",
    "print(\"PyPortfolioOpt library calculation of arithmetic mean\")\n",
    "print(expected_returns.mean_historical_return(etf_prices, compounding=False, log_returns=True))\n"
   ]
  },
  {
   "cell_type": "markdown",
   "metadata": {},
   "source": [
    "## 2.2 - VaR (Historical Estimation)"
   ]
  },
  {
   "cell_type": "code",
   "execution_count": 75,
   "metadata": {},
   "outputs": [
    {
     "name": "stdout",
     "output_type": "stream",
     "text": [
      "VaR(5) for each ETF and benchmark:\n",
      " Ticker\n",
      "VWRA.L    -0.018923\n",
      "VUAA.L    -0.019464\n",
      "SPY4.L    -0.023551\n",
      "PHYS      -0.016628\n",
      "EXXY.MI   -0.016834\n",
      "AGGU.L    -0.004970\n",
      "Name: 0.05, dtype: float64\n"
     ]
    }
   ],
   "source": [
    "# Calculate VaR at 5% level\n",
    "var_5 = log_returns.quantile(0.05)\n",
    "print(\"VaR(5) for each ETF and benchmark:\\n\", var_5)"
   ]
  },
  {
   "cell_type": "markdown",
   "metadata": {},
   "source": [
    "## 2.3 - CVaR (Historical Estimation)\n",
    "\n",
    "Conditional VaR (also known as Expected Shortfall) is the average of the returns below the VaR threshold."
   ]
  },
  {
   "cell_type": "code",
   "execution_count": 76,
   "metadata": {},
   "outputs": [
    {
     "name": "stdout",
     "output_type": "stream",
     "text": [
      "CVaR(5) for each ETF and benchmark:\n",
      " Ticker\n",
      "VWRA.L    -0.029464\n",
      "VUAA.L    -0.030773\n",
      "SPY4.L    -0.036941\n",
      "PHYS      -0.023887\n",
      "EXXY.MI   -0.026894\n",
      "AGGU.L    -0.007226\n",
      "dtype: float64\n"
     ]
    }
   ],
   "source": [
    "# Calculate CVaR\n",
    "cvar_5 = log_returns[log_returns < var_5].mean()\n",
    "print(\"CVaR(5) for each ETF and benchmark:\\n\", cvar_5)"
   ]
  },
  {
   "cell_type": "markdown",
   "metadata": {},
   "source": [
    "## 2.4 - Maximum Drawdown\n",
    "\n",
    "Maximum drawdown measures the largest peak-to-trough decline in cumulative returns."
   ]
  },
  {
   "cell_type": "code",
   "execution_count": 77,
   "metadata": {},
   "outputs": [
    {
     "name": "stdout",
     "output_type": "stream",
     "text": [
      "Maximum drawdown for each ETF and benchmark:\n",
      " Ticker\n",
      "VWRA.L    -0.345285\n",
      "VUAA.L    -0.349274\n",
      "SPY4.L    -0.442882\n",
      "PHYS      -0.256297\n",
      "EXXY.MI   -0.276953\n",
      "AGGU.L    -0.157353\n",
      "dtype: float64\n"
     ]
    }
   ],
   "source": [
    "# Calculate cumulative returns\n",
    "cumulative_returns = (1 + log_returns).cumprod()\n",
    "\n",
    "# Calculate drawdowns\n",
    "drawdowns = cumulative_returns / cumulative_returns.cummax() - 1\n",
    "\n",
    "# Calculate maximum drawdown\n",
    "max_drawdown = drawdowns.min()\n",
    "print(\"Maximum drawdown for each ETF and benchmark:\\n\", max_drawdown)"
   ]
  },
  {
   "cell_type": "markdown",
   "metadata": {},
   "source": [
    "## 2.5 - Covariance Matrix"
   ]
  },
  {
   "cell_type": "code",
   "execution_count": 78,
   "metadata": {},
   "outputs": [
    {
     "data": {
      "application/vnd.plotly.v1+json": {
       "config": {
        "plotlyServerURL": "https://plot.ly"
       },
       "data": [
        {
         "colorbar": {
          "title": {
           "text": "Covariance"
          }
         },
         "colorscale": [
          [
           0,
           "rgb(255,245,240)"
          ],
          [
           0.125,
           "rgb(254,224,210)"
          ],
          [
           0.25,
           "rgb(252,187,161)"
          ],
          [
           0.375,
           "rgb(252,146,114)"
          ],
          [
           0.5,
           "rgb(251,106,74)"
          ],
          [
           0.625,
           "rgb(239,59,44)"
          ],
          [
           0.75,
           "rgb(203,24,29)"
          ],
          [
           0.875,
           "rgb(165,15,21)"
          ],
          [
           1,
           "rgb(103,0,13)"
          ]
         ],
         "type": "heatmap",
         "x": [
          "VWRA.L",
          "VUAA.L",
          "SPY4.L",
          "PHYS",
          "EXXY.MI",
          "AGGU.L"
         ],
         "y": [
          "VWRA.L",
          "VUAA.L",
          "SPY4.L",
          "PHYS",
          "EXXY.MI",
          "AGGU.L"
         ],
         "z": [
          [
           0.03683262751572105,
           0.03729967546907769,
           0.04356121916710529,
           0.0049101232682553534,
           0.007697624212634813,
           0.0006970277804974973
          ],
          [
           0.03729967546907769,
           0.03978052824240985,
           0.044742600129359794,
           0.003746855005260807,
           0.007719022353110406,
           0.0005718543721817435
          ],
          [
           0.04356121916710529,
           0.044742600129359794,
           0.06272553348754524,
           0.003560543757970784,
           0.01149710582721555,
           0.00030638996553092313
          ],
          [
           0.0049101232682553534,
           0.003746855005260807,
           0.003560543757970784,
           0.024656676675432792,
           0.005269561799368337,
           0.0022685409303409357
          ],
          [
           0.007697624212634813,
           0.007719022353110406,
           0.01149710582721555,
           0.005269561799368337,
           0.03048195387359708,
           -0.0009304126974545415
          ],
          [
           0.0006970277804974973,
           0.0005718543721817435,
           0.00030638996553092313,
           0.0022685409303409357,
           -0.0009304126974545415,
           0.0028726413239533012
          ]
         ]
        }
       ],
       "layout": {
        "height": 600,
        "template": {
         "data": {
          "bar": [
           {
            "error_x": {
             "color": "#2a3f5f"
            },
            "error_y": {
             "color": "#2a3f5f"
            },
            "marker": {
             "line": {
              "color": "#E5ECF6",
              "width": 0.5
             },
             "pattern": {
              "fillmode": "overlay",
              "size": 10,
              "solidity": 0.2
             }
            },
            "type": "bar"
           }
          ],
          "barpolar": [
           {
            "marker": {
             "line": {
              "color": "#E5ECF6",
              "width": 0.5
             },
             "pattern": {
              "fillmode": "overlay",
              "size": 10,
              "solidity": 0.2
             }
            },
            "type": "barpolar"
           }
          ],
          "carpet": [
           {
            "aaxis": {
             "endlinecolor": "#2a3f5f",
             "gridcolor": "white",
             "linecolor": "white",
             "minorgridcolor": "white",
             "startlinecolor": "#2a3f5f"
            },
            "baxis": {
             "endlinecolor": "#2a3f5f",
             "gridcolor": "white",
             "linecolor": "white",
             "minorgridcolor": "white",
             "startlinecolor": "#2a3f5f"
            },
            "type": "carpet"
           }
          ],
          "choropleth": [
           {
            "colorbar": {
             "outlinewidth": 0,
             "ticks": ""
            },
            "type": "choropleth"
           }
          ],
          "contour": [
           {
            "colorbar": {
             "outlinewidth": 0,
             "ticks": ""
            },
            "colorscale": [
             [
              0,
              "#0d0887"
             ],
             [
              0.1111111111111111,
              "#46039f"
             ],
             [
              0.2222222222222222,
              "#7201a8"
             ],
             [
              0.3333333333333333,
              "#9c179e"
             ],
             [
              0.4444444444444444,
              "#bd3786"
             ],
             [
              0.5555555555555556,
              "#d8576b"
             ],
             [
              0.6666666666666666,
              "#ed7953"
             ],
             [
              0.7777777777777778,
              "#fb9f3a"
             ],
             [
              0.8888888888888888,
              "#fdca26"
             ],
             [
              1,
              "#f0f921"
             ]
            ],
            "type": "contour"
           }
          ],
          "contourcarpet": [
           {
            "colorbar": {
             "outlinewidth": 0,
             "ticks": ""
            },
            "type": "contourcarpet"
           }
          ],
          "heatmap": [
           {
            "colorbar": {
             "outlinewidth": 0,
             "ticks": ""
            },
            "colorscale": [
             [
              0,
              "#0d0887"
             ],
             [
              0.1111111111111111,
              "#46039f"
             ],
             [
              0.2222222222222222,
              "#7201a8"
             ],
             [
              0.3333333333333333,
              "#9c179e"
             ],
             [
              0.4444444444444444,
              "#bd3786"
             ],
             [
              0.5555555555555556,
              "#d8576b"
             ],
             [
              0.6666666666666666,
              "#ed7953"
             ],
             [
              0.7777777777777778,
              "#fb9f3a"
             ],
             [
              0.8888888888888888,
              "#fdca26"
             ],
             [
              1,
              "#f0f921"
             ]
            ],
            "type": "heatmap"
           }
          ],
          "heatmapgl": [
           {
            "colorbar": {
             "outlinewidth": 0,
             "ticks": ""
            },
            "colorscale": [
             [
              0,
              "#0d0887"
             ],
             [
              0.1111111111111111,
              "#46039f"
             ],
             [
              0.2222222222222222,
              "#7201a8"
             ],
             [
              0.3333333333333333,
              "#9c179e"
             ],
             [
              0.4444444444444444,
              "#bd3786"
             ],
             [
              0.5555555555555556,
              "#d8576b"
             ],
             [
              0.6666666666666666,
              "#ed7953"
             ],
             [
              0.7777777777777778,
              "#fb9f3a"
             ],
             [
              0.8888888888888888,
              "#fdca26"
             ],
             [
              1,
              "#f0f921"
             ]
            ],
            "type": "heatmapgl"
           }
          ],
          "histogram": [
           {
            "marker": {
             "pattern": {
              "fillmode": "overlay",
              "size": 10,
              "solidity": 0.2
             }
            },
            "type": "histogram"
           }
          ],
          "histogram2d": [
           {
            "colorbar": {
             "outlinewidth": 0,
             "ticks": ""
            },
            "colorscale": [
             [
              0,
              "#0d0887"
             ],
             [
              0.1111111111111111,
              "#46039f"
             ],
             [
              0.2222222222222222,
              "#7201a8"
             ],
             [
              0.3333333333333333,
              "#9c179e"
             ],
             [
              0.4444444444444444,
              "#bd3786"
             ],
             [
              0.5555555555555556,
              "#d8576b"
             ],
             [
              0.6666666666666666,
              "#ed7953"
             ],
             [
              0.7777777777777778,
              "#fb9f3a"
             ],
             [
              0.8888888888888888,
              "#fdca26"
             ],
             [
              1,
              "#f0f921"
             ]
            ],
            "type": "histogram2d"
           }
          ],
          "histogram2dcontour": [
           {
            "colorbar": {
             "outlinewidth": 0,
             "ticks": ""
            },
            "colorscale": [
             [
              0,
              "#0d0887"
             ],
             [
              0.1111111111111111,
              "#46039f"
             ],
             [
              0.2222222222222222,
              "#7201a8"
             ],
             [
              0.3333333333333333,
              "#9c179e"
             ],
             [
              0.4444444444444444,
              "#bd3786"
             ],
             [
              0.5555555555555556,
              "#d8576b"
             ],
             [
              0.6666666666666666,
              "#ed7953"
             ],
             [
              0.7777777777777778,
              "#fb9f3a"
             ],
             [
              0.8888888888888888,
              "#fdca26"
             ],
             [
              1,
              "#f0f921"
             ]
            ],
            "type": "histogram2dcontour"
           }
          ],
          "mesh3d": [
           {
            "colorbar": {
             "outlinewidth": 0,
             "ticks": ""
            },
            "type": "mesh3d"
           }
          ],
          "parcoords": [
           {
            "line": {
             "colorbar": {
              "outlinewidth": 0,
              "ticks": ""
             }
            },
            "type": "parcoords"
           }
          ],
          "pie": [
           {
            "automargin": true,
            "type": "pie"
           }
          ],
          "scatter": [
           {
            "fillpattern": {
             "fillmode": "overlay",
             "size": 10,
             "solidity": 0.2
            },
            "type": "scatter"
           }
          ],
          "scatter3d": [
           {
            "line": {
             "colorbar": {
              "outlinewidth": 0,
              "ticks": ""
             }
            },
            "marker": {
             "colorbar": {
              "outlinewidth": 0,
              "ticks": ""
             }
            },
            "type": "scatter3d"
           }
          ],
          "scattercarpet": [
           {
            "marker": {
             "colorbar": {
              "outlinewidth": 0,
              "ticks": ""
             }
            },
            "type": "scattercarpet"
           }
          ],
          "scattergeo": [
           {
            "marker": {
             "colorbar": {
              "outlinewidth": 0,
              "ticks": ""
             }
            },
            "type": "scattergeo"
           }
          ],
          "scattergl": [
           {
            "marker": {
             "colorbar": {
              "outlinewidth": 0,
              "ticks": ""
             }
            },
            "type": "scattergl"
           }
          ],
          "scattermapbox": [
           {
            "marker": {
             "colorbar": {
              "outlinewidth": 0,
              "ticks": ""
             }
            },
            "type": "scattermapbox"
           }
          ],
          "scatterpolar": [
           {
            "marker": {
             "colorbar": {
              "outlinewidth": 0,
              "ticks": ""
             }
            },
            "type": "scatterpolar"
           }
          ],
          "scatterpolargl": [
           {
            "marker": {
             "colorbar": {
              "outlinewidth": 0,
              "ticks": ""
             }
            },
            "type": "scatterpolargl"
           }
          ],
          "scatterternary": [
           {
            "marker": {
             "colorbar": {
              "outlinewidth": 0,
              "ticks": ""
             }
            },
            "type": "scatterternary"
           }
          ],
          "surface": [
           {
            "colorbar": {
             "outlinewidth": 0,
             "ticks": ""
            },
            "colorscale": [
             [
              0,
              "#0d0887"
             ],
             [
              0.1111111111111111,
              "#46039f"
             ],
             [
              0.2222222222222222,
              "#7201a8"
             ],
             [
              0.3333333333333333,
              "#9c179e"
             ],
             [
              0.4444444444444444,
              "#bd3786"
             ],
             [
              0.5555555555555556,
              "#d8576b"
             ],
             [
              0.6666666666666666,
              "#ed7953"
             ],
             [
              0.7777777777777778,
              "#fb9f3a"
             ],
             [
              0.8888888888888888,
              "#fdca26"
             ],
             [
              1,
              "#f0f921"
             ]
            ],
            "type": "surface"
           }
          ],
          "table": [
           {
            "cells": {
             "fill": {
              "color": "#EBF0F8"
             },
             "line": {
              "color": "white"
             }
            },
            "header": {
             "fill": {
              "color": "#C8D4E3"
             },
             "line": {
              "color": "white"
             }
            },
            "type": "table"
           }
          ]
         },
         "layout": {
          "annotationdefaults": {
           "arrowcolor": "#2a3f5f",
           "arrowhead": 0,
           "arrowwidth": 1
          },
          "autotypenumbers": "strict",
          "coloraxis": {
           "colorbar": {
            "outlinewidth": 0,
            "ticks": ""
           }
          },
          "colorscale": {
           "diverging": [
            [
             0,
             "#8e0152"
            ],
            [
             0.1,
             "#c51b7d"
            ],
            [
             0.2,
             "#de77ae"
            ],
            [
             0.3,
             "#f1b6da"
            ],
            [
             0.4,
             "#fde0ef"
            ],
            [
             0.5,
             "#f7f7f7"
            ],
            [
             0.6,
             "#e6f5d0"
            ],
            [
             0.7,
             "#b8e186"
            ],
            [
             0.8,
             "#7fbc41"
            ],
            [
             0.9,
             "#4d9221"
            ],
            [
             1,
             "#276419"
            ]
           ],
           "sequential": [
            [
             0,
             "#0d0887"
            ],
            [
             0.1111111111111111,
             "#46039f"
            ],
            [
             0.2222222222222222,
             "#7201a8"
            ],
            [
             0.3333333333333333,
             "#9c179e"
            ],
            [
             0.4444444444444444,
             "#bd3786"
            ],
            [
             0.5555555555555556,
             "#d8576b"
            ],
            [
             0.6666666666666666,
             "#ed7953"
            ],
            [
             0.7777777777777778,
             "#fb9f3a"
            ],
            [
             0.8888888888888888,
             "#fdca26"
            ],
            [
             1,
             "#f0f921"
            ]
           ],
           "sequentialminus": [
            [
             0,
             "#0d0887"
            ],
            [
             0.1111111111111111,
             "#46039f"
            ],
            [
             0.2222222222222222,
             "#7201a8"
            ],
            [
             0.3333333333333333,
             "#9c179e"
            ],
            [
             0.4444444444444444,
             "#bd3786"
            ],
            [
             0.5555555555555556,
             "#d8576b"
            ],
            [
             0.6666666666666666,
             "#ed7953"
            ],
            [
             0.7777777777777778,
             "#fb9f3a"
            ],
            [
             0.8888888888888888,
             "#fdca26"
            ],
            [
             1,
             "#f0f921"
            ]
           ]
          },
          "colorway": [
           "#636efa",
           "#EF553B",
           "#00cc96",
           "#ab63fa",
           "#FFA15A",
           "#19d3f3",
           "#FF6692",
           "#B6E880",
           "#FF97FF",
           "#FECB52"
          ],
          "font": {
           "color": "#2a3f5f"
          },
          "geo": {
           "bgcolor": "white",
           "lakecolor": "white",
           "landcolor": "#E5ECF6",
           "showlakes": true,
           "showland": true,
           "subunitcolor": "white"
          },
          "hoverlabel": {
           "align": "left"
          },
          "hovermode": "closest",
          "mapbox": {
           "style": "light"
          },
          "paper_bgcolor": "white",
          "plot_bgcolor": "#E5ECF6",
          "polar": {
           "angularaxis": {
            "gridcolor": "white",
            "linecolor": "white",
            "ticks": ""
           },
           "bgcolor": "#E5ECF6",
           "radialaxis": {
            "gridcolor": "white",
            "linecolor": "white",
            "ticks": ""
           }
          },
          "scene": {
           "xaxis": {
            "backgroundcolor": "#E5ECF6",
            "gridcolor": "white",
            "gridwidth": 2,
            "linecolor": "white",
            "showbackground": true,
            "ticks": "",
            "zerolinecolor": "white"
           },
           "yaxis": {
            "backgroundcolor": "#E5ECF6",
            "gridcolor": "white",
            "gridwidth": 2,
            "linecolor": "white",
            "showbackground": true,
            "ticks": "",
            "zerolinecolor": "white"
           },
           "zaxis": {
            "backgroundcolor": "#E5ECF6",
            "gridcolor": "white",
            "gridwidth": 2,
            "linecolor": "white",
            "showbackground": true,
            "ticks": "",
            "zerolinecolor": "white"
           }
          },
          "shapedefaults": {
           "line": {
            "color": "#2a3f5f"
           }
          },
          "ternary": {
           "aaxis": {
            "gridcolor": "white",
            "linecolor": "white",
            "ticks": ""
           },
           "baxis": {
            "gridcolor": "white",
            "linecolor": "white",
            "ticks": ""
           },
           "bgcolor": "#E5ECF6",
           "caxis": {
            "gridcolor": "white",
            "linecolor": "white",
            "ticks": ""
           }
          },
          "title": {
           "x": 0.05
          },
          "xaxis": {
           "automargin": true,
           "gridcolor": "white",
           "linecolor": "white",
           "ticks": "",
           "title": {
            "standoff": 15
           },
           "zerolinecolor": "white",
           "zerolinewidth": 2
          },
          "yaxis": {
           "automargin": true,
           "gridcolor": "white",
           "linecolor": "white",
           "ticks": "",
           "title": {
            "standoff": 15
           },
           "zerolinecolor": "white",
           "zerolinewidth": 2
          }
         }
        },
        "title": {
         "text": "Covariance Matrix Heatmap"
        },
        "width": 600,
        "xaxis": {
         "title": {
          "text": "Assets"
         }
        },
        "yaxis": {
         "title": {
          "text": "Assets"
         }
        }
       }
      }
     },
     "metadata": {},
     "output_type": "display_data"
    }
   ],
   "source": [
    "S = risk_models.sample_cov(etf_prices, log_returns=True)\n",
    "\n",
    "# Plot covariance matrix as a heatmap\n",
    "fig = go.Figure(\n",
    "    data=go.Heatmap(\n",
    "        z=S.values,  # Covariance values\n",
    "        x=S.columns,  # ETF names (columns)\n",
    "        y=S.columns,  # ETF names (rows)\n",
    "        colorscale=\"reds\",  # Choose a color scale\n",
    "        colorbar=dict(title=\"Covariance\"),\n",
    "    )\n",
    ")\n",
    "\n",
    "# Customize the layout\n",
    "fig.update_layout(\n",
    "    title=\"Covariance Matrix Heatmap\",\n",
    "    xaxis_title=\"Assets\",\n",
    "    yaxis_title=\"Assets\",\n",
    "    width=600,\n",
    "    height=600\n",
    ")\n",
    "\n",
    "fig.show()\n"
   ]
  },
  {
   "cell_type": "markdown",
   "metadata": {},
   "source": [
    "# 3. Portfolio Optimisation \n",
    "\n",
    "Make use of PyPortfolioOpt to do optimisation with MPT and Efficient Frontier, compare with manual calucations"
   ]
  },
  {
   "cell_type": "code",
   "execution_count": 79,
   "metadata": {},
   "outputs": [
    {
     "name": "stdout",
     "output_type": "stream",
     "text": [
      "OrderedDict({'VWRA.L': 0.0, 'VUAA.L': 0.43915, 'SPY4.L': 0.0, 'PHYS': 0.40582, 'EXXY.MI': 0.15502, 'AGGU.L': 0.0})\n",
      "Expected annual return: 9.7%\n",
      "Annual volatility: 12.5%\n",
      "Sharpe Ratio: 0.78\n"
     ]
    }
   ],
   "source": [
    "ef = EfficientFrontier(mean_annual, S)\n",
    "weights = ef.max_sharpe()  # Maximize the Sharpe ratio\n",
    "cleaned_weights = ef.clean_weights()\n",
    "print(cleaned_weights)\n",
    "\n",
    "performance = ef.portfolio_performance(verbose=True)"
   ]
  },
  {
   "cell_type": "markdown",
   "metadata": {},
   "source": [
    "# 4. Efficient Frontier\n",
    "Plotting Efficient Frontier for given set of ETFs\n"
   ]
  },
  {
   "cell_type": "code",
   "execution_count": 80,
   "metadata": {},
   "outputs": [
    {
     "name": "stderr",
     "output_type": "stream",
     "text": [
      "c:\\Users\\User\\Desktop\\Finance Resources\\Personal Portfolio Optimisation\\Personal-Portfolio-Optimisation\\.venv\\Lib\\site-packages\\pypfopt\\expected_returns.py:32: UserWarning:\n",
      "\n",
      "Some returns are NaN. Please check your price data.\n",
      "\n"
     ]
    },
    {
     "data": {
      "application/vnd.plotly.v1+json": {
       "config": {
        "plotlyServerURL": "https://plot.ly"
       },
       "data": [
        {
         "customdata": [
          [
           0.87128,
           0.09845,
           0,
           0,
           0.03027,
           0,
           0
          ],
          [
           0.87128,
           0.09845,
           0,
           0,
           0.03027,
           0,
           0
          ],
          [
           0.87128,
           0.09845,
           0,
           0,
           0.03027,
           0,
           0
          ],
          [
           0.87128,
           0.09845,
           0,
           0,
           0.03027,
           0,
           0
          ],
          [
           0.85804,
           0.10064,
           0.00279,
           0,
           0.03542,
           0,
           0.00313
          ],
          [
           0.83324,
           0.10131,
           0.01681,
           0,
           0.04029,
           0,
           0.00834
          ],
          [
           0.80845,
           0.10199,
           0.03084,
           0,
           0.04517,
           0,
           0.01356
          ],
          [
           0.78365,
           0.10267,
           0.04487,
           0,
           0.05004,
           0,
           0.01877
          ],
          [
           0.75886,
           0.10335,
           0.05889,
           0,
           0.05491,
           0,
           0.02399
          ],
          [
           0.73407,
           0.10402,
           0.07292,
           0,
           0.05978,
           0,
           0.02921
          ],
          [
           0.70928,
           0.1047,
           0.08695,
           0,
           0.06465,
           0,
           0.03443
          ],
          [
           0.68448,
           0.10538,
           0.10098,
           0,
           0.06952,
           0,
           0.03964
          ],
          [
           0.65969,
           0.10605,
           0.115,
           0,
           0.07439,
           0,
           0.04486
          ],
          [
           0.6349,
           0.10673,
           0.12903,
           0,
           0.07926,
           0,
           0.05008
          ],
          [
           0.6101,
           0.10741,
           0.14306,
           0,
           0.08413,
           0,
           0.05529
          ],
          [
           0.58531,
           0.10809,
           0.15709,
           0,
           0.089,
           0,
           0.06051
          ],
          [
           0.56052,
           0.10876,
           0.17111,
           0,
           0.09388,
           0,
           0.06573
          ],
          [
           0.53573,
           0.10944,
           0.18514,
           0,
           0.09875,
           0,
           0.07095
          ],
          [
           0.51093,
           0.11012,
           0.19917,
           0,
           0.10362,
           0,
           0.07616
          ],
          [
           0.48614,
           0.11079,
           0.2132,
           0,
           0.10849,
           0,
           0.08138
          ],
          [
           0.46135,
           0.11147,
           0.22723,
           0,
           0.11336,
           0,
           0.0866
          ],
          [
           0.43655,
           0.11215,
           0.24125,
           0,
           0.11823,
           0,
           0.09181
          ],
          [
           0.41176,
           0.11283,
           0.25528,
           0,
           0.1231,
           0,
           0.09703
          ],
          [
           0.38697,
           0.1135,
           0.26931,
           0,
           0.12797,
           0,
           0.10225
          ],
          [
           0.36218,
           0.11418,
           0.28334,
           0,
           0.13284,
           0,
           0.10747
          ],
          [
           0.33738,
           0.11486,
           0.29736,
           0,
           0.13771,
           0,
           0.11268
          ],
          [
           0.31259,
           0.11553,
           0.31139,
           0,
           0.14259,
           0,
           0.1179
          ],
          [
           0.2878,
           0.11621,
           0.32542,
           0,
           0.14746,
           0,
           0.12312
          ],
          [
           0.263,
           0.11689,
           0.33945,
           0,
           0.15233,
           0,
           0.12834
          ],
          [
           0.23821,
           0.11756,
           0.35347,
           0,
           0.1572,
           0,
           0.13355
          ],
          [
           0.21342,
           0.11824,
           0.3675,
           0,
           0.16207,
           0,
           0.13877
          ],
          [
           0.18862,
           0.11892,
           0.38153,
           0,
           0.16694,
           0,
           0.14399
          ],
          [
           0.16383,
           0.1196,
           0.39556,
           0,
           0.17181,
           0,
           0.1492
          ],
          [
           0.13904,
           0.12027,
           0.40958,
           0,
           0.17668,
           0,
           0.15442
          ],
          [
           0.11425,
           0.12095,
           0.42361,
           0,
           0.18155,
           0,
           0.15964
          ],
          [
           0.08945,
           0.12163,
           0.43764,
           0,
           0.18642,
           0,
           0.16486
          ],
          [
           0.06466,
           0.1223,
           0.45167,
           0,
           0.1913,
           0,
           0.17007
          ],
          [
           0.03987,
           0.12298,
           0.46569,
           0,
           0.19617,
           0,
           0.17529
          ],
          [
           0.01507,
           0.12366,
           0.47972,
           0,
           0.20104,
           0,
           0.18051
          ],
          [
           0,
           0.10666,
           0.49342,
           0,
           0.20513,
           0,
           0.19477
          ],
          [
           0,
           0.06241,
           0.50647,
           0,
           0.20814,
           0,
           0.22297
          ],
          [
           0,
           0.01811,
           0.51957,
           0,
           0.21112,
           0,
           0.2512
          ],
          [
           0,
           0,
           0.49402,
           0,
           0.18052,
           0,
           0.32549
          ],
          [
           0,
           0,
           0.44166,
           0,
           0.12656,
           0,
           0.43183
          ],
          [
           0,
           0,
           0.38924,
           0,
           0.07253,
           0,
           0.53828
          ],
          [
           0,
           0,
           0.33682,
           0,
           0.0185,
           0,
           0.64472
          ],
          [
           0,
           0,
           0.26146,
           0,
           0,
           0,
           0.73857
          ],
          [
           0,
           0,
           0.17436,
           0,
           0,
           0,
           0.82567
          ],
          [
           0,
           0,
           0.08725,
           0,
           0,
           0,
           0.91278
          ]
         ],
         "hovertemplate": "Volatility: %{x:.2f}<br>Return: %{y:.2f}<br>VWRA.L: %{customdata[0]}<br>VUAA.L: %{customdata[1]}<br>SPY4.L: %{customdata[2]}<br>PHYS: %{customdata[3]}<br>EXXY.MI: %{customdata[4]}<br>AGGU.L: %{customdata[5]}",
         "mode": "lines+markers",
         "name": "Efficient Frontier",
         "type": "scatter",
         "x": [
          0.04786018149672459,
          0.04786018149672459,
          0.047860181496724594,
          0.04786018149672459,
          0.04790970377018346,
          0.04817291196046444,
          0.04863203431861071,
          0.04928173560775959,
          0.050114604202343226,
          0.05112168846487492,
          0.05229292395668591,
          0.053617554473116044,
          0.05508451494488436,
          0.056682755870252344,
          0.05840150020913738,
          0.060230432736341245,
          0.062159827990702986,
          0.06418062629297454,
          0.06628446842346201,
          0.06846369917190578,
          0.07071134874770321,
          0.07302109946060252,
          0.07538724347294384,
          0.07780463596573427,
          0.08026864683280606,
          0.08277511303693201,
          0.08532029301099367,
          0.08790082393234182,
          0.09051368230154548,
          0.09315614798221025,
          0.09582577167588918,
          0.09852034569048981,
          0.10123787779267895,
          0.10397656789996004,
          0.10673478735558714,
          0.10951106053147147,
          0.11230404851522767,
          0.115112534653666,
          0.11793541174375942,
          0.12082000435661196,
          0.12419250077067884,
          0.12812489888715844,
          0.13294622985947785,
          0.1401377919988415,
          0.14953012068248606,
          0.1607341946095881,
          0.1735344740609623,
          0.18793973928004562,
          0.20365245229106937
         ],
         "y": [
          0.005040660487644066,
          0.008022523488999284,
          0.011004386490354501,
          0.013986249491709717,
          0.016968112493064937,
          0.019949975494420152,
          0.022931838495775368,
          0.025913701497130587,
          0.028895564498485803,
          0.031877427499841016,
          0.03485929050119624,
          0.037841153502551454,
          0.04082301650390667,
          0.043804879505261886,
          0.04678674250661711,
          0.049768605507972324,
          0.05275046850932754,
          0.055732331510682756,
          0.05871419451203797,
          0.061696057513393195,
          0.06467792051474841,
          0.06765978351610362,
          0.07064164651745884,
          0.07362350951881406,
          0.07660537252016927,
          0.0795872355215245,
          0.0825690985228797,
          0.08555096152423493,
          0.08853282452559015,
          0.09151468752694536,
          0.09449655052830058,
          0.09747841352965579,
          0.10046027653101101,
          0.10344213953236624,
          0.10642400253372145,
          0.10940586553507667,
          0.11238772853643188,
          0.1153695915377871,
          0.11835145453914232,
          0.12133331754049753,
          0.12431518054185275,
          0.12729704354320798,
          0.13027890654456317,
          0.1332607695459184,
          0.13624263254727362,
          0.13922449554862884,
          0.14220635854998406,
          0.14518822155133926,
          0.14817008455269448
         ]
        }
       ],
       "layout": {
        "height": 600,
        "template": {
         "data": {
          "bar": [
           {
            "error_x": {
             "color": "#2a3f5f"
            },
            "error_y": {
             "color": "#2a3f5f"
            },
            "marker": {
             "line": {
              "color": "#E5ECF6",
              "width": 0.5
             },
             "pattern": {
              "fillmode": "overlay",
              "size": 10,
              "solidity": 0.2
             }
            },
            "type": "bar"
           }
          ],
          "barpolar": [
           {
            "marker": {
             "line": {
              "color": "#E5ECF6",
              "width": 0.5
             },
             "pattern": {
              "fillmode": "overlay",
              "size": 10,
              "solidity": 0.2
             }
            },
            "type": "barpolar"
           }
          ],
          "carpet": [
           {
            "aaxis": {
             "endlinecolor": "#2a3f5f",
             "gridcolor": "white",
             "linecolor": "white",
             "minorgridcolor": "white",
             "startlinecolor": "#2a3f5f"
            },
            "baxis": {
             "endlinecolor": "#2a3f5f",
             "gridcolor": "white",
             "linecolor": "white",
             "minorgridcolor": "white",
             "startlinecolor": "#2a3f5f"
            },
            "type": "carpet"
           }
          ],
          "choropleth": [
           {
            "colorbar": {
             "outlinewidth": 0,
             "ticks": ""
            },
            "type": "choropleth"
           }
          ],
          "contour": [
           {
            "colorbar": {
             "outlinewidth": 0,
             "ticks": ""
            },
            "colorscale": [
             [
              0,
              "#0d0887"
             ],
             [
              0.1111111111111111,
              "#46039f"
             ],
             [
              0.2222222222222222,
              "#7201a8"
             ],
             [
              0.3333333333333333,
              "#9c179e"
             ],
             [
              0.4444444444444444,
              "#bd3786"
             ],
             [
              0.5555555555555556,
              "#d8576b"
             ],
             [
              0.6666666666666666,
              "#ed7953"
             ],
             [
              0.7777777777777778,
              "#fb9f3a"
             ],
             [
              0.8888888888888888,
              "#fdca26"
             ],
             [
              1,
              "#f0f921"
             ]
            ],
            "type": "contour"
           }
          ],
          "contourcarpet": [
           {
            "colorbar": {
             "outlinewidth": 0,
             "ticks": ""
            },
            "type": "contourcarpet"
           }
          ],
          "heatmap": [
           {
            "colorbar": {
             "outlinewidth": 0,
             "ticks": ""
            },
            "colorscale": [
             [
              0,
              "#0d0887"
             ],
             [
              0.1111111111111111,
              "#46039f"
             ],
             [
              0.2222222222222222,
              "#7201a8"
             ],
             [
              0.3333333333333333,
              "#9c179e"
             ],
             [
              0.4444444444444444,
              "#bd3786"
             ],
             [
              0.5555555555555556,
              "#d8576b"
             ],
             [
              0.6666666666666666,
              "#ed7953"
             ],
             [
              0.7777777777777778,
              "#fb9f3a"
             ],
             [
              0.8888888888888888,
              "#fdca26"
             ],
             [
              1,
              "#f0f921"
             ]
            ],
            "type": "heatmap"
           }
          ],
          "heatmapgl": [
           {
            "colorbar": {
             "outlinewidth": 0,
             "ticks": ""
            },
            "colorscale": [
             [
              0,
              "#0d0887"
             ],
             [
              0.1111111111111111,
              "#46039f"
             ],
             [
              0.2222222222222222,
              "#7201a8"
             ],
             [
              0.3333333333333333,
              "#9c179e"
             ],
             [
              0.4444444444444444,
              "#bd3786"
             ],
             [
              0.5555555555555556,
              "#d8576b"
             ],
             [
              0.6666666666666666,
              "#ed7953"
             ],
             [
              0.7777777777777778,
              "#fb9f3a"
             ],
             [
              0.8888888888888888,
              "#fdca26"
             ],
             [
              1,
              "#f0f921"
             ]
            ],
            "type": "heatmapgl"
           }
          ],
          "histogram": [
           {
            "marker": {
             "pattern": {
              "fillmode": "overlay",
              "size": 10,
              "solidity": 0.2
             }
            },
            "type": "histogram"
           }
          ],
          "histogram2d": [
           {
            "colorbar": {
             "outlinewidth": 0,
             "ticks": ""
            },
            "colorscale": [
             [
              0,
              "#0d0887"
             ],
             [
              0.1111111111111111,
              "#46039f"
             ],
             [
              0.2222222222222222,
              "#7201a8"
             ],
             [
              0.3333333333333333,
              "#9c179e"
             ],
             [
              0.4444444444444444,
              "#bd3786"
             ],
             [
              0.5555555555555556,
              "#d8576b"
             ],
             [
              0.6666666666666666,
              "#ed7953"
             ],
             [
              0.7777777777777778,
              "#fb9f3a"
             ],
             [
              0.8888888888888888,
              "#fdca26"
             ],
             [
              1,
              "#f0f921"
             ]
            ],
            "type": "histogram2d"
           }
          ],
          "histogram2dcontour": [
           {
            "colorbar": {
             "outlinewidth": 0,
             "ticks": ""
            },
            "colorscale": [
             [
              0,
              "#0d0887"
             ],
             [
              0.1111111111111111,
              "#46039f"
             ],
             [
              0.2222222222222222,
              "#7201a8"
             ],
             [
              0.3333333333333333,
              "#9c179e"
             ],
             [
              0.4444444444444444,
              "#bd3786"
             ],
             [
              0.5555555555555556,
              "#d8576b"
             ],
             [
              0.6666666666666666,
              "#ed7953"
             ],
             [
              0.7777777777777778,
              "#fb9f3a"
             ],
             [
              0.8888888888888888,
              "#fdca26"
             ],
             [
              1,
              "#f0f921"
             ]
            ],
            "type": "histogram2dcontour"
           }
          ],
          "mesh3d": [
           {
            "colorbar": {
             "outlinewidth": 0,
             "ticks": ""
            },
            "type": "mesh3d"
           }
          ],
          "parcoords": [
           {
            "line": {
             "colorbar": {
              "outlinewidth": 0,
              "ticks": ""
             }
            },
            "type": "parcoords"
           }
          ],
          "pie": [
           {
            "automargin": true,
            "type": "pie"
           }
          ],
          "scatter": [
           {
            "fillpattern": {
             "fillmode": "overlay",
             "size": 10,
             "solidity": 0.2
            },
            "type": "scatter"
           }
          ],
          "scatter3d": [
           {
            "line": {
             "colorbar": {
              "outlinewidth": 0,
              "ticks": ""
             }
            },
            "marker": {
             "colorbar": {
              "outlinewidth": 0,
              "ticks": ""
             }
            },
            "type": "scatter3d"
           }
          ],
          "scattercarpet": [
           {
            "marker": {
             "colorbar": {
              "outlinewidth": 0,
              "ticks": ""
             }
            },
            "type": "scattercarpet"
           }
          ],
          "scattergeo": [
           {
            "marker": {
             "colorbar": {
              "outlinewidth": 0,
              "ticks": ""
             }
            },
            "type": "scattergeo"
           }
          ],
          "scattergl": [
           {
            "marker": {
             "colorbar": {
              "outlinewidth": 0,
              "ticks": ""
             }
            },
            "type": "scattergl"
           }
          ],
          "scattermapbox": [
           {
            "marker": {
             "colorbar": {
              "outlinewidth": 0,
              "ticks": ""
             }
            },
            "type": "scattermapbox"
           }
          ],
          "scatterpolar": [
           {
            "marker": {
             "colorbar": {
              "outlinewidth": 0,
              "ticks": ""
             }
            },
            "type": "scatterpolar"
           }
          ],
          "scatterpolargl": [
           {
            "marker": {
             "colorbar": {
              "outlinewidth": 0,
              "ticks": ""
             }
            },
            "type": "scatterpolargl"
           }
          ],
          "scatterternary": [
           {
            "marker": {
             "colorbar": {
              "outlinewidth": 0,
              "ticks": ""
             }
            },
            "type": "scatterternary"
           }
          ],
          "surface": [
           {
            "colorbar": {
             "outlinewidth": 0,
             "ticks": ""
            },
            "colorscale": [
             [
              0,
              "#0d0887"
             ],
             [
              0.1111111111111111,
              "#46039f"
             ],
             [
              0.2222222222222222,
              "#7201a8"
             ],
             [
              0.3333333333333333,
              "#9c179e"
             ],
             [
              0.4444444444444444,
              "#bd3786"
             ],
             [
              0.5555555555555556,
              "#d8576b"
             ],
             [
              0.6666666666666666,
              "#ed7953"
             ],
             [
              0.7777777777777778,
              "#fb9f3a"
             ],
             [
              0.8888888888888888,
              "#fdca26"
             ],
             [
              1,
              "#f0f921"
             ]
            ],
            "type": "surface"
           }
          ],
          "table": [
           {
            "cells": {
             "fill": {
              "color": "#EBF0F8"
             },
             "line": {
              "color": "white"
             }
            },
            "header": {
             "fill": {
              "color": "#C8D4E3"
             },
             "line": {
              "color": "white"
             }
            },
            "type": "table"
           }
          ]
         },
         "layout": {
          "annotationdefaults": {
           "arrowcolor": "#2a3f5f",
           "arrowhead": 0,
           "arrowwidth": 1
          },
          "autotypenumbers": "strict",
          "coloraxis": {
           "colorbar": {
            "outlinewidth": 0,
            "ticks": ""
           }
          },
          "colorscale": {
           "diverging": [
            [
             0,
             "#8e0152"
            ],
            [
             0.1,
             "#c51b7d"
            ],
            [
             0.2,
             "#de77ae"
            ],
            [
             0.3,
             "#f1b6da"
            ],
            [
             0.4,
             "#fde0ef"
            ],
            [
             0.5,
             "#f7f7f7"
            ],
            [
             0.6,
             "#e6f5d0"
            ],
            [
             0.7,
             "#b8e186"
            ],
            [
             0.8,
             "#7fbc41"
            ],
            [
             0.9,
             "#4d9221"
            ],
            [
             1,
             "#276419"
            ]
           ],
           "sequential": [
            [
             0,
             "#0d0887"
            ],
            [
             0.1111111111111111,
             "#46039f"
            ],
            [
             0.2222222222222222,
             "#7201a8"
            ],
            [
             0.3333333333333333,
             "#9c179e"
            ],
            [
             0.4444444444444444,
             "#bd3786"
            ],
            [
             0.5555555555555556,
             "#d8576b"
            ],
            [
             0.6666666666666666,
             "#ed7953"
            ],
            [
             0.7777777777777778,
             "#fb9f3a"
            ],
            [
             0.8888888888888888,
             "#fdca26"
            ],
            [
             1,
             "#f0f921"
            ]
           ],
           "sequentialminus": [
            [
             0,
             "#0d0887"
            ],
            [
             0.1111111111111111,
             "#46039f"
            ],
            [
             0.2222222222222222,
             "#7201a8"
            ],
            [
             0.3333333333333333,
             "#9c179e"
            ],
            [
             0.4444444444444444,
             "#bd3786"
            ],
            [
             0.5555555555555556,
             "#d8576b"
            ],
            [
             0.6666666666666666,
             "#ed7953"
            ],
            [
             0.7777777777777778,
             "#fb9f3a"
            ],
            [
             0.8888888888888888,
             "#fdca26"
            ],
            [
             1,
             "#f0f921"
            ]
           ]
          },
          "colorway": [
           "#636efa",
           "#EF553B",
           "#00cc96",
           "#ab63fa",
           "#FFA15A",
           "#19d3f3",
           "#FF6692",
           "#B6E880",
           "#FF97FF",
           "#FECB52"
          ],
          "font": {
           "color": "#2a3f5f"
          },
          "geo": {
           "bgcolor": "white",
           "lakecolor": "white",
           "landcolor": "#E5ECF6",
           "showlakes": true,
           "showland": true,
           "subunitcolor": "white"
          },
          "hoverlabel": {
           "align": "left"
          },
          "hovermode": "closest",
          "mapbox": {
           "style": "light"
          },
          "paper_bgcolor": "white",
          "plot_bgcolor": "#E5ECF6",
          "polar": {
           "angularaxis": {
            "gridcolor": "white",
            "linecolor": "white",
            "ticks": ""
           },
           "bgcolor": "#E5ECF6",
           "radialaxis": {
            "gridcolor": "white",
            "linecolor": "white",
            "ticks": ""
           }
          },
          "scene": {
           "xaxis": {
            "backgroundcolor": "#E5ECF6",
            "gridcolor": "white",
            "gridwidth": 2,
            "linecolor": "white",
            "showbackground": true,
            "ticks": "",
            "zerolinecolor": "white"
           },
           "yaxis": {
            "backgroundcolor": "#E5ECF6",
            "gridcolor": "white",
            "gridwidth": 2,
            "linecolor": "white",
            "showbackground": true,
            "ticks": "",
            "zerolinecolor": "white"
           },
           "zaxis": {
            "backgroundcolor": "#E5ECF6",
            "gridcolor": "white",
            "gridwidth": 2,
            "linecolor": "white",
            "showbackground": true,
            "ticks": "",
            "zerolinecolor": "white"
           }
          },
          "shapedefaults": {
           "line": {
            "color": "#2a3f5f"
           }
          },
          "ternary": {
           "aaxis": {
            "gridcolor": "white",
            "linecolor": "white",
            "ticks": ""
           },
           "baxis": {
            "gridcolor": "white",
            "linecolor": "white",
            "ticks": ""
           },
           "bgcolor": "#E5ECF6",
           "caxis": {
            "gridcolor": "white",
            "linecolor": "white",
            "ticks": ""
           }
          },
          "title": {
           "x": 0.05
          },
          "xaxis": {
           "automargin": true,
           "gridcolor": "white",
           "linecolor": "white",
           "ticks": "",
           "title": {
            "standoff": 15
           },
           "zerolinecolor": "white",
           "zerolinewidth": 2
          },
          "yaxis": {
           "automargin": true,
           "gridcolor": "white",
           "linecolor": "white",
           "ticks": "",
           "title": {
            "standoff": 15
           },
           "zerolinecolor": "white",
           "zerolinewidth": 2
          }
         }
        },
        "title": {
         "text": "Efficient Frontier with Portfolio Weights"
        },
        "width": 1000,
        "xaxis": {
         "title": {
          "text": "Risk (Volatility)"
         }
        },
        "yaxis": {
         "title": {
          "text": "Expected Return"
         }
        }
       }
      }
     },
     "metadata": {},
     "output_type": "display_data"
    }
   ],
   "source": [
    "# Calculate expected returns and the covariance matrix\n",
    "mu = expected_returns.mean_historical_return(data)\n",
    "S = risk_models.sample_cov(data)\n",
    "\n",
    "# Create the Efficient Frontier object\n",
    "ef = EfficientFrontier(mu, S)\n",
    "\n",
    "# Generate portfolios for the efficient frontier\n",
    "ef_data = []\n",
    "target_risks = []\n",
    "target_returns = []\n",
    "portfolio_weights = []\n",
    "\n",
    "# Loop through different target returns to build the efficient frontier\n",
    "for target_return in np.linspace(mu.min(), mu.max(), 50):\n",
    "    try:\n",
    "        ef.efficient_return(target_return)\n",
    "        weights = ef.clean_weights()\n",
    "        portfolio_weights.append(weights)\n",
    "        target_risks.append(ef.portfolio_performance()[1])  # Standard deviation (volatility)\n",
    "        target_returns.append(target_return)\n",
    "    except Exception:\n",
    "        pass\n",
    "\n",
    "# Convert weights to a DataFrame for hover labels\n",
    "weights_df = pd.DataFrame(portfolio_weights)\n",
    "\n",
    "# Create the Plotly chart\n",
    "fig = go.Figure()\n",
    "\n",
    "# Add Efficient Frontier\n",
    "fig.add_trace(\n",
    "    go.Scatter(\n",
    "        x=target_risks,\n",
    "        y=target_returns,\n",
    "        mode=\"lines+markers\",\n",
    "        name=\"Efficient Frontier\",\n",
    "        customdata=weights_df.values,  # Pass weights as custom data\n",
    "        hovertemplate=(\n",
    "            \"Volatility: %{x:.2f}<br>\"\n",
    "            \"Return: %{y:.2f}<br>\"\n",
    "            + \"<br>\".join([f\"{etf}: %{{customdata[{i}]}}\" for i, etf in enumerate(etfs)])\n",
    "        ),\n",
    "    )\n",
    ")\n",
    "\n",
    "# Add chart layout\n",
    "fig.update_layout(\n",
    "    title=\"Efficient Frontier with Portfolio Weights\",\n",
    "    xaxis_title=\"Risk (Volatility)\",\n",
    "    yaxis_title=\"Expected Return\",\n",
    "    width=1000,\n",
    "    height=600,\n",
    ")\n",
    "\n",
    "# Show the chart\n",
    "fig.show()"
   ]
  }
 ],
 "metadata": {
  "kernelspec": {
   "display_name": ".venv",
   "language": "python",
   "name": "python3"
  },
  "language_info": {
   "codemirror_mode": {
    "name": "ipython",
    "version": 3
   },
   "file_extension": ".py",
   "mimetype": "text/x-python",
   "name": "python",
   "nbconvert_exporter": "python",
   "pygments_lexer": "ipython3",
   "version": "3.12.3"
  }
 },
 "nbformat": 4,
 "nbformat_minor": 2
}
