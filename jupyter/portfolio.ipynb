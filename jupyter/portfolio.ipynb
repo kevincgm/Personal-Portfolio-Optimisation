{
 "cells": [
  {
   "cell_type": "markdown",
   "metadata": {},
   "source": [
    "# Import libraries"
   ]
  },
  {
   "cell_type": "code",
   "execution_count": 2,
   "metadata": {},
   "outputs": [],
   "source": [
    "import pandas as pd\n",
    "import numpy as np\n",
    "import yfinance as yf\n",
    "import datetime"
   ]
  },
  {
   "cell_type": "markdown",
   "metadata": {},
   "source": [
    "# Data Engineering - yfinance"
   ]
  },
  {
   "cell_type": "code",
   "execution_count": 3,
   "metadata": {},
   "outputs": [],
   "source": [
    "# Variables\n",
    "# Define ETF tickers and benchmark \n",
    "etfs = ['VWRA.L', 'SPY4.L', 'PHYS'] # to replace with env variables before checking in code\n",
    "benchmark = '^GSPC'  # S&P 500\n",
    "\n",
    "# Set the time frame for analysis\n",
    "start_date = '2020-01-01'\n",
    "end_date = '2023-12-31'\n"
   ]
  },
  {
   "cell_type": "code",
   "execution_count": 8,
   "metadata": {},
   "outputs": [
    {
     "name": "stderr",
     "output_type": "stream",
     "text": [
      "[*********************100%***********************]  4 of 4 completed"
     ]
    },
    {
     "name": "stdout",
     "output_type": "stream",
     "text": [
      "Ticker         VWRA.L     SPY4.L   PHYS    Benchmark\n",
      "Date                                                \n",
      "2020-01-02  86.695000  60.009998  12.28  3257.850098\n",
      "2020-01-03  86.375000  59.959999  12.41  3234.850098\n",
      "2020-01-06  86.205002  59.930000  12.54  3246.280029\n",
      "2020-01-07  86.485001  60.005001  12.64  3237.179932\n",
      "2020-01-08  86.500000  59.930000  12.56  3253.050049\n"
     ]
    },
    {
     "name": "stderr",
     "output_type": "stream",
     "text": [
      "\n",
      "C:\\Users\\User\\AppData\\Local\\Temp\\ipykernel_16936\\615877334.py:10: SettingWithCopyWarning: \n",
      "A value is trying to be set on a copy of a slice from a DataFrame\n",
      "\n",
      "See the caveats in the documentation: https://pandas.pydata.org/pandas-docs/stable/user_guide/indexing.html#returning-a-view-versus-a-copy\n",
      "  etf_prices.dropna(inplace=True)\n",
      "C:\\Users\\User\\AppData\\Local\\Temp\\ipykernel_16936\\615877334.py:14: SettingWithCopyWarning: \n",
      "A value is trying to be set on a copy of a slice from a DataFrame.\n",
      "Try using .loc[row_indexer,col_indexer] = value instead\n",
      "\n",
      "See the caveats in the documentation: https://pandas.pydata.org/pandas-docs/stable/user_guide/indexing.html#returning-a-view-versus-a-copy\n",
      "  etf_prices['Benchmark'] = benchmark_data\n"
     ]
    }
   ],
   "source": [
    "# Fetch historical price data for all ETFs and the benchmark\n",
    "all_tickers = etfs + [benchmark]\n",
    "data = yf.download(all_tickers, start=start_date, end=end_date)['Adj Close']\n",
    "\n",
    "# Split the data into ETFs and benchmark\n",
    "etf_prices = data[etfs]\n",
    "benchmark_data = data[benchmark]\n",
    "\n",
    "# Drop any rows with missing values\n",
    "etf_prices.dropna(inplace=True)\n",
    "benchmark_data.dropna(inplace=True)\n",
    "\n",
    "# Add the benchmark as a separate column for comparison\n",
    "etf_prices['Benchmark'] = benchmark_data\n",
    "\n",
    "# Display the first few rows of the data\n",
    "print(etf_prices.head())"
   ]
  },
  {
   "cell_type": "code",
   "execution_count": 10,
   "metadata": {},
   "outputs": [
    {
     "name": "stdout",
     "output_type": "stream",
     "text": [
      "Ticker        VWRA.L    SPY4.L      PHYS  Benchmark\n",
      "Date                                               \n",
      "2020-01-03 -0.003691 -0.000833  0.010586  -0.007060\n",
      "2020-01-06 -0.001968 -0.000500  0.010475   0.003533\n",
      "2020-01-07  0.003248  0.001251  0.007975  -0.002803\n",
      "2020-01-08  0.000173 -0.001250 -0.006329   0.004902\n",
      "2020-01-09  0.005665  0.004338 -0.004777   0.006655\n"
     ]
    }
   ],
   "source": [
    "# Calculate daily returns\n",
    "returns = etf_prices.pct_change().dropna()\n",
    "print(returns.head())"
   ]
  },
  {
   "cell_type": "markdown",
   "metadata": {},
   "source": [
    "# "
   ]
  }
 ],
 "metadata": {
  "kernelspec": {
   "display_name": ".venv",
   "language": "python",
   "name": "python3"
  },
  "language_info": {
   "codemirror_mode": {
    "name": "ipython",
    "version": 3
   },
   "file_extension": ".py",
   "mimetype": "text/x-python",
   "name": "python",
   "nbconvert_exporter": "python",
   "pygments_lexer": "ipython3",
   "version": "3.12.3"
  }
 },
 "nbformat": 4,
 "nbformat_minor": 2
}
